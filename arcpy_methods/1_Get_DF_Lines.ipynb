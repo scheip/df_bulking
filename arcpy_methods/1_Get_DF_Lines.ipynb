{
 "cells": [
  {
   "cell_type": "code",
   "execution_count": 111,
   "metadata": {},
   "outputs": [],
   "source": [
    "%matplotlib inline\n",
    "\n",
    "import arcpy\n",
    "import os, shutil\n",
    "import numpy as np\n",
    "import pandas as pd\n",
    "import matplotlib as mpl\n",
    "import matplotlib.pyplot as plt\n",
    "from scipy.interpolate import interp1d\n",
    "\n",
    "workingDir = \"Z:\\Auxiliary\\Project_Folders\\CS_Sandbox\\\\NCALM\\\\bulking\\\\scratch\"\n",
    "arcpy.env.workspace=workingDir\n",
    "arcpy.env.overwriteOutput = 1"
   ]
  },
  {
   "cell_type": "code",
   "execution_count": 112,
   "metadata": {},
   "outputs": [
    {
     "name": "stdout",
     "output_type": "stream",
     "text": [
      "WARNING: Temporary directory already exists, overwriting...\n",
      "WARNING: Output directory already exists, overwriting...\n",
      "WARNING: Individual output directory already exists, overwriting...\n"
     ]
    }
   ],
   "source": [
    "# Assign datasets\n",
    "# Debris flow polygons\n",
    "dfpoly = 'Full_DF_Vector\\df_polys_trunk'\n",
    "# Debris flow initiation points\n",
    "dfpoint = 'Full_DF_Vector\\df_initiation_points'\n",
    "# Lidar DEM\n",
    "ncalm_el = 'NCALM_version2\\ncalm_el_mosaic.tif' # need to mosaic grg and prv elevation rasters\n",
    "# Change detection DEM (DoD or cloud based difference image)\n",
    "cdiRas = 'NCALM_version2\\cdi_1stdev.tif' # need to mosaic grg and prv CDI rasters\n",
    "# Flow direction raster\n",
    "fdir = 'Hydrology\\\\fdir.tif'\n",
    "# Flow accumulation (area not pixels) raster\n",
    "facc = 'Hydrology\\\\facc_area.tif'\n",
    "\n",
    "# Assign variables\n",
    "dx = 10 # distance down the track to place points\n",
    "\n",
    "# Set up directories\n",
    "tempDir = os.path.join(workingDir, 'temp')\n",
    "try:\n",
    "    os.mkdir(tempDir)\n",
    "    print('Temporary output directory created')\n",
    "except:\n",
    "    print('WARNING: Temporary directory already exists, overwriting...')\n",
    "    \n",
    "outDir = os.path.join(workingDir, 'outputs')\n",
    "try:\n",
    "    os.mkdir(outDir)\n",
    "    print('Output directory created')\n",
    "except:\n",
    "    print('WARNING: Output directory already exists, overwriting...')\n",
    "    \n",
    "indDir = os.path.join(outDir, 'individual')\n",
    "try:\n",
    "    os.mkdir(indDir)\n",
    "    print('Individual output directory created')\n",
    "except:\n",
    "    print('WARNING: Individual output directory already exists, overwriting...')"
   ]
  },
  {
   "cell_type": "code",
   "execution_count": 113,
   "metadata": {},
   "outputs": [
    {
     "name": "stdout",
     "output_type": "stream",
     "text": [
      "Cost paths computed\n"
     ]
    },
    {
     "data": {
      "text/html": [
       "<h2>Output</h2>Z:\\Auxiliary\\Project_Folders\\CS_Sandbox\\NCALM\\bulking\\scratch\\outputs\\df_lines.shp<h2>Messages</h2>Start Time: Wednesday, May 26, 2021 2:44:28 PM<br/>Succeeded at Wednesday, May 26, 2021 2:44:39 PM (Elapsed Time: 11.02 seconds)<br/><style>.rendered_html td, .rendered_html th {text-align: left;}.rendered_html tbody {border: 1px solid black;}</style>"
      ],
      "text/plain": [
       "<Result 'Z:\\\\Auxiliary\\\\Project_Folders\\\\CS_Sandbox\\\\NCALM\\\\bulking\\\\scratch\\\\outputs\\\\df_lines.shp'>"
      ]
     },
     "execution_count": 113,
     "metadata": {},
     "output_type": "execute_result"
    }
   ],
   "source": [
    "# Create cost paths from initiation points\n",
    "cpRas = arcpy.sa.CostPath(dfpoint, facc, fdir, \"EACH_CELL\", \"cp_code\")\n",
    "print('Cost paths computed')\n",
    "\n",
    "# Cost paths to line\n",
    "df_lines = os.path.join(outDir, 'df_lines.shp')\n",
    "arcpy.RasterToPolyline_conversion(cpRas, df_lines, simplify=\"SIMPLIFY\")"
   ]
  },
  {
   "cell_type": "markdown",
   "metadata": {},
   "source": [
    "###############################\n",
    "## Check lines in map view - if flow lines exit debris flows, modify polygon\n",
    "## If lines look good:\n",
    "1. Copy Feature Class to \"df_lines_ind.shp\"\n",
    "2. Manually select/merge lines from each initiation point - captures coalescing flows\n",
    "3. Add \"df_id\" column\n",
    "4. Add spatial join from df_lines_ind to df_points\n",
    "5. Populate df_lines_ind.shp [df_id] from the spatial join with df_points [init_id]\n",
    "6. Remove small off-shoots from main flowlines (artifacts from the cost path processing)\n",
    "7. Smooth lines with smoothing factor ~25m\n",
    "\n",
    "###############################"
   ]
  },
  {
   "cell_type": "code",
   "execution_count": 1,
   "metadata": {
    "scrolled": true
   },
   "outputs": [],
   "source": [
    "# Iterate through debris flow polygons and process each - dissolve lines in each polygon into one line and clip to polygon\n",
    "\n",
    "fields = ['df_id']\n",
    "arcpy.MakeFeatureLayer_management('df_polys','dfpoly_select')\n",
    "\n",
    "with arcpy.da.SearchCursor('dfpoly_select', fields) as sc:\n",
    "    for c, row in enumerate(sc):\n",
    "        print('Starting debris flow {0}'.format(c))\n",
    "        dfl='df{0}_lines'.format(c)\n",
    "        where = 'df_id = {0}'.format(row[0])\n",
    "        arcpy.MakeFeatureLayer_management('df_lines',dfl)\n",
    "        arcpy.SelectLayerByAttribute_management('dfpoly_select','NEW_SELECTION', where)\n",
    "        arcpy.SelectLayerByLocation_management(dfl, 'INTERSECT', 'dfpoly_select', selection_type=\"NEW_SELECTION\")\n",
    "        df_lineIDt = os.path.join(tempDir, 'df{0}_line_temp.shp'.format(c))\n",
    "        arcpy.Dissolve_management(dfl, df_lineIDt)\n",
    "        df_lineID = os.path.join(indDir, 'df{0}_line.shp'.format(c))\n",
    "        arcpy.Clip_analysis(df_lineIDt, 'dfpoly_select', df_lineID)    \n",
    "        "
   ]
  },
  {
   "cell_type": "code",
   "execution_count": 114,
   "metadata": {},
   "outputs": [],
   "source": [
    "# Generate points along line, get distance\n",
    "shps = []\n",
    "for file in os.listdir(indDir):\n",
    "    if file.endswith(\".shp\"):\n",
    "        shps.append(file)\n",
    "        \n",
    "        \n",
    "for r in shps:\n",
    "    c = r[:-9][2:]\n",
    "    print('Starting debris flow ID: {0}'.format(c))\n",
    "    \n",
    "    # Assign points along lines\n",
    "    dfl = os.path.join(indDir, r)\n",
    "    dfdx = os.path.join(indDir, 'df{0}_points.shp'.format(c))\n",
    "    arcpy.GeneratePointsAlongLines_management(dfl, dfdx, 'DISTANCE', Distance='{0} meters'.format(dx), Include_End_Points=\"END_POINTS\")\n",
    "\n",
    "    # Add point ID field to shapefile\n",
    "    arcpy.AddField_management(dfdx, \"pid\", \"short\")\n",
    "    \n",
    "    # Assign unique id to each point\n",
    "    with arcpy.da.UpdateCursor(dfdx, ['Id', 'pid']) as uc:\n",
    "        for cc, row in enumerate(uc):\n",
    "            row[0] = int(c)\n",
    "            row[1] = int(cc)\n"
   ]
  }
 ],
 "metadata": {
  "kernelspec": {
   "display_name": "ArcGISPro",
   "language": "Python",
   "name": "python3"
  },
  "language_info": {
   "file_extension": ".py",
   "name": "python",
   "version": "3"
  }
 },
 "nbformat": 4,
 "nbformat_minor": 2
}
